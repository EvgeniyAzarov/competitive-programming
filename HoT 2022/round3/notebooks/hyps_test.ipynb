{
 "cells": [
  {
   "cell_type": "code",
   "execution_count": 20,
   "id": "fa3615d6-b275-4acb-bc77-fda428a422fa",
   "metadata": {
    "tags": []
   },
   "outputs": [],
   "source": [
    "import numpy as np\n",
    "import matplotlib.pyplot as plt\n",
    "\n",
    "plt.rcParams.update({\"figure.figsize\": (5, 5)})"
   ]
  },
  {
   "cell_type": "code",
   "execution_count": 21,
   "id": "b7961a1e-3500-4f48-9ef8-6b4d9858c877",
   "metadata": {
    "collapsed": false,
    "jupyter": {
     "outputs_hidden": false
    },
    "pycharm": {
     "name": "#%%\n"
    }
   },
   "outputs": [
    {
     "name": "stdout",
     "output_type": "stream",
     "text": [
      "7\n"
     ]
    }
   ],
   "source": [
    "test_i = 0\n",
    "with open(f\"../tests/{test_i}.test\") as file:\n",
    "    ue_num = int(file.readline())\n",
    "    print(ue_num)\n",
    "\n",
    "    toa_all = np.zeros([ue_num, 4])\n",
    "    bs_pos = np.zeros((4, 2))\n",
    "    ue_pos = np.zeros([ue_num, 2], float)\n",
    "\n",
    "    file.readline()\n",
    "    file.readline()\n",
    "\n",
    "    for i in range(ue_num):\n",
    "        line = file.readline()\n",
    "        toa_all[i] = np.asarray(line.strip().split(\" \"), dtype=float)\n",
    "\n",
    "    for i in range(4):\n",
    "        bs_pos[i] = np.asarray(file.readline().split(\" \"), dtype=float)\n",
    "\n",
    "    for i in range(ue_num):\n",
    "        ue_pos[i] = np.asarray(file.readline().split(\" \"), dtype=float)\n"
   ]
  },
  {
   "cell_type": "code",
   "execution_count": 22,
   "id": "aefc7c49-d1b0-454d-8e30-1d85295bcd3b",
   "metadata": {
    "collapsed": false,
    "jupyter": {
     "outputs_hidden": false
    },
    "pycharm": {
     "name": "#%%\n"
    }
   },
   "outputs": [],
   "source": [
    "max_iter_num = 100\n",
    "max_iter_ue = 50\n",
    "room_size = 20\n",
    "c_ns = 0.299792458\n",
    "\n",
    "np.random.seed(47)\n"
   ]
  },
  {
   "cell_type": "code",
   "execution_count": 23,
   "id": "58146646-bdc6-461c-b9f6-4a9beffbc86d",
   "metadata": {
    "collapsed": false,
    "jupyter": {
     "outputs_hidden": false
    },
    "pycharm": {
     "name": "#%%\n"
    }
   },
   "outputs": [],
   "source": [
    "Q = np.zeros((2, 2))\n",
    "M = (bs_pos[0] + bs_pos[1]) / 2\n",
    "R = bs_pos[0] - M\n",
    "Q = np.array([\n",
    "    [R[0], -R[1]],\n",
    "    [R[1], R[0]]\n",
    "]) / np.linalg.norm(R)"
   ]
  },
  {
   "cell_type": "code",
   "execution_count": 24,
   "id": "bc05be3f-80b1-4e61-adae-34ab99eb6ac9",
   "metadata": {
    "collapsed": false,
    "jupyter": {
     "outputs_hidden": false
    },
    "pycharm": {
     "name": "#%%\n"
    }
   },
   "outputs": [
    {
     "data": {
      "text/plain": "3.2572109657830186"
     },
     "execution_count": 24,
     "metadata": {},
     "output_type": "execute_result"
    }
   ],
   "source": [
    "h = []\n",
    "m = max_iter_ue * 2\n",
    "\n",
    "dd = []\n",
    "ddt = []\n",
    "for i in range(ue_num):\n",
    "    ue_pos_i = ue_pos[i]\n",
    "    c = np.linalg.norm(bs_pos[0] - bs_pos[1]) / 2\n",
    "    dt = np.linalg.norm(ue_pos_i - bs_pos[0]) - np.linalg.norm(ue_pos_i - bs_pos[1])\n",
    "    d = (toa_all[i, 0] - toa_all[i, 1]) * c_ns\n",
    "    dd.append(d)\n",
    "    ddt.append(dt)\n",
    "    # print(f\"d: {d}, true d: {d1}\")\n",
    "    a = np.abs(d) / 2\n",
    "    if a > c:\n",
    "        h.append([])\n",
    "    else:\n",
    "        # print(f\"c: {c}, a: {a}\", file=sys.stderr)\n",
    "        b = np.sqrt(c ** 2 - a ** 2)\n",
    "        tmax = max(np.arccosh(room_size / a), np.arcsinh(room_size / b))\n",
    "        ts = np.log(1 + (np.linspace(0, 1, m // 2))) / np.log(2) * tmax\n",
    "        # ts = (np.linspace(0, 1, m // 2)) ** 0.5  * tmax\n",
    "        t = np.concatenate([-ts[::-1], ts])\n",
    "        x = np.zeros((2, m))\n",
    "        x[0] = np.sign(-d) * a * np.cosh(t)\n",
    "        x[1] = b * np.sinh(t)\n",
    "        y = Q @ x + M[:, None]\n",
    "        y = y[:, (np.abs(y) > room_size / 2).sum(axis=0) == 0]\n",
    "        h.append(y)\n",
    "\n",
    "dd = np.array(dd)\n",
    "ddt = np.array(ddt)\n",
    "np.sqrt(np.mean((dd - ddt) ** 2))\n"
   ]
  },
  {
   "cell_type": "code",
   "execution_count": 25,
   "id": "f1dc4ac9-b810-4ba7-8a17-613529d5ff22",
   "metadata": {
    "collapsed": false,
    "jupyter": {
     "outputs_hidden": false
    },
    "pycharm": {
     "name": "#%%\n"
    }
   },
   "outputs": [
    {
     "data": {
      "text/plain": "<Figure size 500x500 with 1 Axes>",
      "image/png": "[encoded data removed]"
     },
     "metadata": {},
     "output_type": "display_data"
    }
   ],
   "source": [
    "fig, ax = plt.subplots()\n",
    "ax.set_aspect(\"equal\")\n",
    "ax.set_xlim(-10, 10)\n",
    "ax.set_ylim(-10, 10)\n",
    "ax.set_box_aspect(1)\n",
    "ax.scatter(*bs_pos.T)\n",
    "ax.scatter(*ue_pos.T)\n",
    "for y in h:\n",
    "    if len(y) > 0:\n",
    "        # plt.plot(*y)\n",
    "        plt.scatter(*y, linewidths=1, marker='.')\n",
    "# ax.plot(*y)\n",
    "plt.show()"
   ]
  },
  {
   "cell_type": "markdown",
   "id": "8dc954e5-99a5-4ce0-9a93-42cb0dbcc534",
   "metadata": {},
   "source": [
    "## One UE"
   ]
  },
  {
   "cell_type": "code",
   "execution_count": 41,
   "outputs": [],
   "source": [
    "p = 1"
   ],
   "metadata": {
    "collapsed": false,
    "pycharm": {
     "name": "#%%\n"
    }
   }
  },
  {
   "cell_type": "code",
   "execution_count": 43,
   "id": "e556d1f7-6420-4f0b-bd9d-ff6fbbd8ef8b",
   "metadata": {
    "collapsed": false,
    "jupyter": {
     "outputs_hidden": false
    },
    "pycharm": {
     "name": "#%%\n"
    }
   },
   "outputs": [
    {
     "data": {
      "text/plain": "<Figure size 500x500 with 1 Axes>",
      "image/png": "[encoded data removed]"
     },
     "metadata": {},
     "output_type": "display_data"
    }
   ],
   "source": [
    "fig, ax = plt.subplots()\n",
    "ax.set_aspect(\"equal\")\n",
    "ax.set_xlim(-10, 10)\n",
    "ax.set_ylim(-10, 10)\n",
    "ax.set_box_aspect(1)\n",
    "ax.scatter(*bs_pos.T)\n",
    "ax.scatter(*ue_pos[p].T)\n",
    "y = h[p]\n",
    "# plt.scatter(*y, linewidths=1, marker='.')\n",
    "ax.plot(*y, color='green')\n",
    "plt.show()"
   ]
  },
  {
   "cell_type": "code",
   "execution_count": 39,
   "id": "1c6993f0-3460-4c9b-b516-d5dfc20a9706",
   "metadata": {},
   "outputs": [
    {
     "data": {
      "text/plain": "array([[12.,  1.],\n       [ 3.,  8.],\n       [12., 14.]])"
     },
     "execution_count": 39,
     "metadata": {},
     "output_type": "execute_result"
    }
   ],
   "source": [
    "xy_i1 = bs_pos[1:] - bs_pos[0]\n",
    "xy_i1"
   ]
  },
  {
   "cell_type": "code",
   "execution_count": 44,
   "id": "e4737827-d08d-4aba-9c82-e2eb72d865c8",
   "metadata": {},
   "outputs": [
    {
     "data": {
      "text/plain": "array([13.62646659, 11.1181031 , 17.75580791])"
     },
     "execution_count": 44,
     "metadata": {},
     "output_type": "execute_result"
    }
   ],
   "source": [
    "cd = toa_all * c_ns\n",
    "cd_i = cd[:, 1:] - cd[:, 0, None]\n",
    "cd_i[p]"
   ]
  },
  {
   "cell_type": "code",
   "execution_count": 45,
   "id": "ffca8bb1-4a1b-40ed-abd1-b938196a793d",
   "metadata": {},
   "outputs": [],
   "source": [
    "k = (bs_pos ** 2).sum(axis=1)"
   ]
  },
  {
   "cell_type": "code",
   "execution_count": 46,
   "id": "b67cbc0f-1733-4b90-b572-40056f99a2f1",
   "metadata": {},
   "outputs": [],
   "source": [
    "A = np.hstack((xy_i1, cd_i[p, :, None]))"
   ]
  },
  {
   "cell_type": "code",
   "execution_count": 47,
   "id": "89c43ad1-0288-4ccc-a8a6-d34e9475cae0",
   "metadata": {},
   "outputs": [
    {
     "data": {
      "text/plain": "array([[12.        ,  1.        , 13.62646659],\n       [ 3.        ,  8.        , 11.1181031 ],\n       [12.        , 14.        , 17.75580791]])"
     },
     "execution_count": 47,
     "metadata": {},
     "output_type": "execute_result"
    }
   ],
   "source": [
    "A"
   ]
  },
  {
   "cell_type": "code",
   "execution_count": 51,
   "outputs": [
    {
     "data": {
      "text/plain": "-818.963143613285"
     },
     "execution_count": 51,
     "metadata": {},
     "output_type": "execute_result"
    }
   ],
   "source": [
    "np.linalg.det(A)"
   ],
   "metadata": {
    "collapsed": false,
    "pycharm": {
     "name": "#%%\n"
    }
   }
  },
  {
   "cell_type": "code",
   "execution_count": 48,
   "id": "a9a43632-8312-4c07-9320-30639f876451",
   "metadata": {},
   "outputs": [],
   "source": [
    "b = (k[1:] - k[0] - cd_i[p] ** 2) / 2"
   ]
  },
  {
   "cell_type": "code",
   "execution_count": 49,
   "id": "ec3821d5-6142-4e4e-b849-e677c1414f7f",
   "metadata": {},
   "outputs": [],
   "source": [
    "pos, res, rank, s = np.linalg.lstsq(A, b, rcond=None)"
   ]
  },
  {
   "cell_type": "code",
   "execution_count": 50,
   "id": "d7fe4660-665f-4498-9153-3920c719262a",
   "metadata": {
    "collapsed": false,
    "jupyter": {
     "outputs_hidden": false
    },
    "pycharm": {
     "name": "#%%\n"
    }
   },
   "outputs": [
    {
     "data": {
      "text/plain": "<Figure size 500x500 with 1 Axes>",
      "image/png": "[encoded data removed]"
     },
     "metadata": {},
     "output_type": "display_data"
    }
   ],
   "source": [
    "fig, ax = plt.subplots()\n",
    "ax.set_aspect(\"equal\")\n",
    "ax.set_xlim(-10, 10)\n",
    "ax.set_ylim(-10, 10)\n",
    "ax.set_box_aspect(1)\n",
    "ax.scatter(*bs_pos.T)\n",
    "ax.scatter(*ue_pos[p].T)\n",
    "ax.scatter(*pos[:-1])\n",
    "y = h[p]\n",
    "# plt.scatter(*y, linewidths=1, marker='.')\n",
    "ax.plot(*y, color='green')\n",
    "plt.show()"
   ]
  },
  {
   "cell_type": "code",
   "execution_count": null,
   "id": "1d48ecf2-9e83-46df-9e8f-e571c4eb2e04",
   "metadata": {},
   "outputs": [],
   "source": []
  },
  {
   "cell_type": "code",
   "execution_count": null,
   "id": "89c9173a-5e5d-4bef-83ac-10ac07e5253e",
   "metadata": {},
   "outputs": [],
   "source": []
  }
 ],
 "metadata": {
  "kernelspec": {
   "display_name": "Python 3",
   "language": "python",
   "name": "python3"
  },
  "language_info": {
   "codemirror_mode": {
    "name": "ipython",
    "version": 3
   },
   "file_extension": ".py",
   "mimetype": "text/x-python",
   "name": "python",
   "nbconvert_exporter": "python",
   "pygments_lexer": "ipython3",
   "version": "3.10.8"
  }
 },
 "nbformat": 4,
 "nbformat_minor": 5
}