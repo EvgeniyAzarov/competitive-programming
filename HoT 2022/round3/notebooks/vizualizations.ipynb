{
 "cells": [
  {
   "cell_type": "code",
   "execution_count": 6,
   "metadata": {
    "collapsed": true,
    "jupyter": {
     "outputs_hidden": true
    }
   },
   "outputs": [],
   "source": [
    "import numpy as np\n",
    "import matplotlib.pyplot as plt\n",
    "\n",
    "plt.rcParams.update({\"figure.figsize\": (5, 5)})"
   ]
  },
  {
   "cell_type": "code",
   "execution_count": 7,
   "metadata": {
    "collapsed": false,
    "jupyter": {
     "outputs_hidden": false
    },
    "pycharm": {
     "name": "#%%\n"
    }
   },
   "outputs": [
    {
     "name": "stdout",
     "output_type": "stream",
     "text": [
      "7\n"
     ]
    }
   ],
   "source": [
    "test_i = 0\n",
    "with open(f\"../tests/{test_i}.test\") as file:\n",
    "    ue_num = int(file.readline())\n",
    "    print(ue_num)\n",
    "\n",
    "    toa_all = np.zeros([ue_num, 4])\n",
    "    bs_pos = np.zeros((4, 2))\n",
    "    ue_pos = np.zeros([ue_num, 2], float)\n",
    "\n",
    "    file.readline()\n",
    "    file.readline()\n",
    "\n",
    "    for i in range(ue_num):\n",
    "        line = file.readline()\n",
    "        toa_all[i] = np.asarray(line.strip().split(\" \"), dtype=float)\n",
    "\n",
    "    for i in range(4):\n",
    "        bs_pos[i] = np.asarray(file.readline().split(\" \"), dtype=float)\n",
    "\n",
    "    for i in range(ue_num):\n",
    "        ue_pos[i] = np.asarray(file.readline().split(\" \"), dtype=float)\n"
   ]
  },
  {
   "cell_type": "code",
   "execution_count": 8,
   "metadata": {
    "collapsed": false,
    "jupyter": {
     "outputs_hidden": false
    },
    "pycharm": {
     "name": "#%%\n"
    }
   },
   "outputs": [],
   "source": [
    "max_iter_num = 100\n",
    "max_iter_ue = 50\n",
    "room_size = 20\n",
    "c_ns = 0.299792458\n",
    "\n",
    "np.random.seed(47)\n"
   ]
  },
  {
   "cell_type": "code",
   "execution_count": 9,
   "metadata": {
    "collapsed": false,
    "jupyter": {
     "outputs_hidden": false
    },
    "pycharm": {
     "name": "#%%\n"
    }
   },
   "outputs": [],
   "source": [
    "Q = np.zeros((2, 2))\n",
    "M = (bs_pos[0] + bs_pos[1]) / 2\n",
    "R = bs_pos[0] - M\n",
    "Q = np.array([\n",
    "    [R[0], -R[1]],\n",
    "    [R[1], R[0]]\n",
    "]) / np.linalg.norm(R)"
   ]
  },
  {
   "cell_type": "code",
   "execution_count": 10,
   "metadata": {
    "collapsed": false,
    "jupyter": {
     "outputs_hidden": false
    },
    "pycharm": {
     "name": "#%%\n"
    }
   },
   "outputs": [
    {
     "data": {
      "text/plain": "3.2572109657830186"
     },
     "execution_count": 10,
     "metadata": {},
     "output_type": "execute_result"
    }
   ],
   "source": [
    "h = []\n",
    "m = max_iter_ue * 2\n",
    "\n",
    "dd = []\n",
    "ddt = []\n",
    "for i in range(ue_num):\n",
    "    ue_pos_i = ue_pos[i]\n",
    "    c = np.linalg.norm(bs_pos[0] - bs_pos[1]) / 2\n",
    "    dt = np.linalg.norm(ue_pos_i - bs_pos[0]) - np.linalg.norm(ue_pos_i - bs_pos[1])\n",
    "    d = (toa_all[i, 0] - toa_all[i, 1]) * c_ns\n",
    "    dd.append(d)\n",
    "    ddt.append(dt)\n",
    "    # print(f\"d: {d}, true d: {d1}\")\n",
    "    a = np.abs(d) / 2\n",
    "    if a > c:\n",
    "        h.append([])\n",
    "    else:\n",
    "        # print(f\"c: {c}, a: {a}\", file=sys.stderr)\n",
    "        b = np.sqrt(c ** 2 - a ** 2)\n",
    "        tmax = max(np.arccosh(room_size / a), np.arcsinh(room_size / b))\n",
    "        ts = np.log(1 + (np.linspace(0, 1, m // 2))) / np.log(2) * tmax\n",
    "        # ts = (np.linspace(0, 1, m // 2)) ** 0.5  * tmax\n",
    "        t = np.concatenate([-ts[::-1], ts])\n",
    "        x = np.zeros((2, m))\n",
    "        x[0] = np.sign(-d) * a * np.cosh(t)\n",
    "        x[1] = b * np.sinh(t)\n",
    "        y = Q @ x + M[:, None]\n",
    "        y = y[:, (np.abs(y) > room_size / 2).sum(axis=0) == 0]\n",
    "        h.append(y)\n",
    "\n",
    "dd = np.array(dd)\n",
    "ddt = np.array(ddt)\n",
    "np.sqrt(np.mean((dd - ddt) ** 2))\n"
   ]
  },
  {
   "cell_type": "code",
   "execution_count": 12,
   "metadata": {
    "collapsed": false,
    "jupyter": {
     "outputs_hidden": false
    },
    "pycharm": {
     "name": "#%%\n"
    }
   },
   "outputs": [
    {
     "data": {
      "text/plain": "<Figure size 500x500 with 1 Axes>",
      "image/png": "[encoded data removed]"
     },
     "metadata": {},
     "output_type": "display_data"
    }
   ],
   "source": [
    "fig, ax = plt.subplots()\n",
    "ax.set_aspect(\"equal\")\n",
    "ax.set_xlim(-10, 10)\n",
    "ax.set_ylim(-10, 10)\n",
    "ax.set_box_aspect(1)\n",
    "ax.scatter(*bs_pos.T)\n",
    "ax.scatter(*ue_pos.T)\n",
    "# for y in h[:10]:\n",
    "for y in h:\n",
    "    if len(y) > 0:\n",
    "        # plt.plot(*y)\n",
    "        plt.scatter(*y, linewidths=1, marker='.')\n",
    "# ax.plot(*y)\n",
    "plt.show()"
   ]
  },
  {
   "cell_type": "code",
   "execution_count": 13,
   "metadata": {
    "collapsed": false,
    "jupyter": {
     "outputs_hidden": false
    },
    "pycharm": {
     "name": "#%%\n"
    }
   },
   "outputs": [
    {
     "name": "stdout",
     "output_type": "stream",
     "text": [
      "CPU times: user 1.4 s, sys: 3.96 ms, total: 1.41 s\n",
      "Wall time: 1.41 s\n"
     ]
    }
   ],
   "source": [
    "%%time\n",
    "ue_pos_est = np.zeros((ue_num, 2), dtype=float)\n",
    "bs_pos_est = bs_pos.copy()\n",
    "\n",
    "min_loss = np.inf\n",
    "tdoa_measured = toa_all[:, 1:] - toa_all[:, 0:1]\n",
    "ue_pos_best = ue_pos_est.copy()\n",
    "bs_pos_best = bs_pos_est.copy()\n",
    "for iter in range(max_iter_num):\n",
    "    bs_pos_est[2, 0] = (np.random.rand() - 1) * room_size / 2\n",
    "    bs_pos_est[3, 0] = (np.random.rand()) * room_size / 2\n",
    "    bs_pos_est[2, 1] = (np.random.rand()) * room_size / 2\n",
    "    bs_pos_est[3, 1] = (np.random.rand()) * room_size / 2\n",
    "\n",
    "    loss_tdoa = 0\n",
    "    for ue_i in range(ue_num):\n",
    "        min_loss_ue = np.inf\n",
    "        for iter_ue in range(max_iter_ue):\n",
    "            if len(h[ue_i]) > 0:\n",
    "            # if False:\n",
    "                # ue_pos_est_i = (np.random.rand(2) - 0.5) * room_size\n",
    "                ch = np.random.randint(0, len(h[ue_i].T))\n",
    "                ue_pos_est_i = h[ue_i].T[ch]\n",
    "            else:\n",
    "                ue_pos_est_i = (np.random.rand(2) - 0.5) * room_size\n",
    "\n",
    "            toa_est_i = (\n",
    "                    np.sqrt(\n",
    "                        (bs_pos_est[:, 0] - ue_pos_est_i[0]) ** 2\n",
    "                        + (bs_pos_est[:, 1] - ue_pos_est_i[1]) ** 2\n",
    "                    )\n",
    "                    / c_ns\n",
    "            )\n",
    "            tdoa_est_i = toa_est_i[1:] - toa_est_i[0:1]\n",
    "            loss_tdoa_i = np.sum((tdoa_est_i - tdoa_measured[ue_i, :]) ** 2)\n",
    "\n",
    "            if loss_tdoa_i < min_loss_ue:\n",
    "                ue_pos_est[ue_i, :] = ue_pos_est_i.copy()\n",
    "                min_loss_ue = loss_tdoa_i\n",
    "\n",
    "        loss_tdoa += min_loss_ue\n",
    "\n",
    "    if loss_tdoa < min_loss:\n",
    "        ue_pos_best = ue_pos_est.copy()\n",
    "        bs_pos_best = bs_pos_est.copy()\n",
    "        min_loss = loss_tdoa\n",
    "\n",
    "ue_pos_est = ue_pos_best\n",
    "bs_pos_est = bs_pos_best\n"
   ]
  },
  {
   "cell_type": "code",
   "execution_count": 14,
   "metadata": {
    "collapsed": false,
    "jupyter": {
     "outputs_hidden": false
    },
    "pycharm": {
     "name": "#%%\n"
    }
   },
   "outputs": [
    {
     "name": "stdout",
     "output_type": "stream",
     "text": [
      "[[-5.00000000e+00 -5.00000000e+00]\n",
      " [ 7.00000000e+00 -4.00000000e+00]\n",
      " [-9.11810425e-01  2.07329542e+00]\n",
      " [ 2.84704202e-04  9.06658118e+00]]\n"
     ]
    }
   ],
   "source": [
    "print(bs_pos_est)"
   ]
  },
  {
   "cell_type": "code",
   "execution_count": 15,
   "metadata": {
    "collapsed": false,
    "jupyter": {
     "outputs_hidden": false
    },
    "pycharm": {
     "name": "#%%\n"
    }
   },
   "outputs": [
    {
     "data": {
      "text/plain": "<Figure size 500x500 with 1 Axes>",
      "image/png": "[encoded data removed]"
     },
     "metadata": {},
     "output_type": "display_data"
    }
   ],
   "source": [
    "fig, ax = plt.subplots()\n",
    "ax.set_aspect(\"equal\")\n",
    "ax.set_xlim(-10, 10)\n",
    "ax.set_ylim(-10, 10)\n",
    "ax.set_box_aspect(1)\n",
    "ax.scatter(*bs_pos.T, label=\"BS pos\")\n",
    "ax.scatter(*bs_pos_est[2:].T, label=\"BS est\")\n",
    "ax.scatter(*ue_pos.T, label=\"UE pos\")\n",
    "ax.scatter(*ue_pos_est.T, label=\"UE est\")\n",
    "\n",
    "\n",
    "plt.legend()\n",
    "plt.show()"
   ]
  },
  {
   "cell_type": "code",
   "execution_count": 16,
   "metadata": {
    "collapsed": false,
    "jupyter": {
     "outputs_hidden": false
    },
    "pycharm": {
     "name": "#%%\n"
    }
   },
   "outputs": [
    {
     "name": "stdout",
     "output_type": "stream",
     "text": [
      "2201328\n"
     ]
    }
   ],
   "source": [
    "# Loss explicitly\n",
    "Dbs = np.sqrt(np.mean(np.sum((bs_pos_est - bs_pos) ** 2, axis=1), axis=0))\n",
    "Due = np.sqrt(np.mean(np.sum((ue_pos_est - ue_pos) ** 2, axis=1), axis=0))\n",
    "\n",
    "res = round((1 / (1 + Dbs) + 1 / (1 + Due)) * 5 * 10 ** 6)\n",
    "print(res)"
   ]
  },
  {
   "cell_type": "code",
   "execution_count": 17,
   "metadata": {
    "collapsed": false,
    "jupyter": {
     "outputs_hidden": false
    },
    "pycharm": {
     "name": "#%%\n"
    }
   },
   "outputs": [
    {
     "name": "stdout",
     "output_type": "stream",
     "text": [
      "[[-9.11810425e-01  2.07329542e+00]\n",
      " [ 2.84704202e-04  9.06658118e+00]]\n"
     ]
    }
   ],
   "source": [
    "print(bs_pos_est[2:])"
   ]
  },
  {
   "cell_type": "code",
   "execution_count": 17,
   "metadata": {
    "collapsed": false,
    "jupyter": {
     "outputs_hidden": false
    },
    "pycharm": {
     "name": "#%%\n"
    }
   },
   "outputs": [],
   "source": []
  },
  {
   "cell_type": "code",
   "execution_count": 17,
   "metadata": {
    "collapsed": false,
    "jupyter": {
     "outputs_hidden": false
    },
    "pycharm": {
     "name": "#%%\n"
    }
   },
   "outputs": [],
   "source": []
  },
  {
   "cell_type": "code",
   "execution_count": 17,
   "metadata": {
    "collapsed": false,
    "jupyter": {
     "outputs_hidden": false
    },
    "pycharm": {
     "name": "#%%\n"
    }
   },
   "outputs": [],
   "source": []
  },
  {
   "cell_type": "code",
   "execution_count": 18,
   "metadata": {
    "collapsed": false,
    "jupyter": {
     "outputs_hidden": false
    },
    "pycharm": {
     "name": "#%%\n"
    }
   },
   "outputs": [
    {
     "data": {
      "text/plain": "<Figure size 500x500 with 1 Axes>",
      "image/png": "[encoded data removed]"
     },
     "metadata": {},
     "output_type": "display_data"
    }
   ],
   "source": [
    "# external hyperbolas check\n",
    "hx = [-6.01577, -5.9673, -5.91904, -5.87099, -5.82315, -5.77551, -5.72809, -5.68087, -5.63387, -5.58709, -5.54051, -5.49415, -5.44801, -5.40209, -5.35639, -5.31091, -5.26565, -5.22061, -5.1758, -5.13122, -5.08688, -5.04276, -4.99888, -4.95524, -4.91184, -4.86869, -4.82578, -4.78313, -4.74073, -4.6986, -4.65673, -4.61513, -4.57381, -4.53277, -4.49202, -4.45157, -4.41143, -4.3716, -4.3321, -4.29294, -4.25413, -4.21568, -4.17762, -4.13997, -4.10274, -4.06596, -4.02966, -3.99388, -3.95865, -3.92404, -3.89009, -3.85689, -3.82453, -3.79314, -3.76287, -3.73396, -3.70674, -3.68172, -3.65974, -3.64249, -3.63432, -3.68126, -3.82361, -3.91119, -3.99005, -4.06455, -4.13635, -4.20632, -4.27497, -4.34261, -4.40949, -4.47577, -4.54157, -4.60699, -4.67211, -4.73698, -4.80166, -4.86619, -4.93061, -4.99495, -5.05924, -5.12349, -5.18773, -5.25198, -5.31624, -5.38055, -5.4449, -5.50931, -5.57379, -5.63835, -5.703, -5.76775, -5.8326, -5.89755, -5.96263, -6.02783, -6.09315, -6.1586, -6.2242, -6.28993,]\n",
    "hy=[9.96191, 9.8238, 9.68566, 9.54747, 9.40921, 9.27087, 9.13243, 8.99387, 8.85519, 8.71635, 8.57735, 8.43815, 8.29874, 8.1591, 8.0192, 7.87901, 7.73852, 7.59769, 7.45649, 7.31489, 7.17287, 7.03037, 6.88737, 6.74382, 6.59969, 6.45492, 6.30947, 6.16328, 6.01629, 5.86846, 5.7197, 5.56994, 5.41912, 5.26714, 5.1139, 4.95932, 4.80326, 4.64562, 4.48625, 4.325, 4.1617, 3.99616, 3.82815, 3.65743, 3.48372, 3.30669, 3.12596, 2.94109, 2.75155, 2.5567, 2.35577, 2.1478, 1.9316, 1.7056, 1.46773, 1.21515, 0.943722, 0.647108, 0.314579, -0.0748588, -0.575622, -1.76405, -2.94485, -3.43796, -3.81972, -4.14454, -4.43342, -4.69708, -4.94187, -5.17191, -5.39006, -5.59838, -5.79844, -5.99143, -6.17831, -6.35986, -6.5367, -6.70938, -6.87832, -7.04392, -7.20649, -7.36632, -7.52367, -7.67873, -7.83172, -7.98279, -8.13211, -8.27981, -8.42601, -8.57083, -8.71437, -8.85672, -8.99797, -9.1382, -9.27747, -9.41585, -9.55342, -9.69021, -9.82629, -9.96171, ]\n",
    "\n",
    "fig, ax = plt.subplots()\n",
    "ax.set_aspect(\"equal\")\n",
    "ax.set_xlim(-10, 10)\n",
    "ax.set_ylim(-10, 10)\n",
    "ax.set_box_aspect(1)\n",
    "ax.scatter(*bs_pos[:2].T)\n",
    "ax.scatter(*ue_pos[1].T)\n",
    "ax.scatter(hx, hy, marker='.')\n",
    "# ax.scatter(h[1][0], h[1][1], marker='.')\n",
    "plt.show()"
   ]
  },
  {
   "cell_type": "markdown",
   "metadata": {
    "collapsed": false,
    "jupyter": {
     "outputs_hidden": false
    },
    "pycharm": {
     "name": "#%% md\n"
    }
   },
   "source": [
    "## Hyperbolas intersection method"
   ]
  },
  {
   "cell_type": "code",
   "execution_count": 27,
   "outputs": [],
   "source": [
    "ue_pos_est = np.zeros((ue_num, 2), dtype=float)\n",
    "bs_pos_est = bs_pos.copy()\n",
    "\n",
    "min_loss = np.inf\n",
    "tdoa_measured = toa_all[:, 1:] - toa_all[:, 0:1]\n",
    "ue_pos_best = ue_pos_est.copy()\n",
    "bs_pos_best = bs_pos_est.copy()\n",
    "\n",
    "\n",
    "xy_i1 = bs_pos[1:] - bs_pos[0]\n",
    "cd = toa_all * c_ns\n",
    "cd_i = cd[:, 1:] - cd[:, 0, None]\n",
    "k = (bs_pos ** 2).sum(axis=1)\n",
    "\n",
    "for iter in range(max_iter_num):\n",
    "    bs_pos_est[2, 0] = (np.random.rand() - 1) * room_size / 2\n",
    "    bs_pos_est[3, 0] = (np.random.rand()) * room_size / 2\n",
    "    bs_pos_est[2, 1] = (np.random.rand()) * room_size / 2\n",
    "    bs_pos_est[3, 1] = (np.random.rand()) * room_size / 2\n",
    "\n",
    "    loss_tdoa = 0\n",
    "    for ue_i in range(ue_num):\n",
    "        min_loss_ue = np.inf\n",
    "        for iter_ue in range(max_iter_ue):\n",
    "            #if len(h[ue_i]) > 0:\n",
    "            #    # ue_pos_est_i = (np.random.rand(2) - 0.5) * room_size\n",
    "            #    ch = np.random.randint(0, len(h[ue_i].T))\n",
    "            #    # ue_pos_est_i = h[ue_i].T[ch] + np.random.normal(0, 1, 2)\n",
    "            #    ue_pos_est_i = h[ue_i].T[ch]\n",
    "            #else:\n",
    "            #    ue_pos_est_i = (np.random.rand(2) - 0.5) * room_size\n",
    "            A = np.hstack((xy_i1, cd_i[ue_i, :, None]))\n",
    "            b = (k[1:] - k[0] - cd_i[ue_i] ** 2) / 2\n",
    "            pos, res, rank, s = np.linalg.lstsq(A, b, rcond=None)\n",
    "            ue_pos_est_i = pos[:-1]\n",
    "\n",
    "            toa_est_i = (\n",
    "                np.sqrt(\n",
    "                    (bs_pos_est[:, 0] - ue_pos_est_i[0]) ** 2\n",
    "                    + (bs_pos_est[:, 1] - ue_pos_est_i[1]) ** 2\n",
    "                )\n",
    "                / c_ns\n",
    "            )\n",
    "            tdoa_est_i = toa_est_i[1:] - toa_est_i[0:1]\n",
    "            #  loss_tdoa_i = np.sum((tdoa_est_i - tdoa_measured[ue_i, :]) ** 2)\n",
    "            loss_tdoa_i = np.sum(np.abs(tdoa_est_i - tdoa_measured[ue_i, :]))\n",
    "\n",
    "            if loss_tdoa_i < min_loss_ue:\n",
    "                ue_pos_est[ue_i, :] = ue_pos_est_i.copy()\n",
    "                min_loss_ue = loss_tdoa_i\n",
    "\n",
    "            ue_pos_est_i = (np.random.rand(2) - 0.5) * room_size\n",
    "            toa_est_i = (\n",
    "                np.sqrt(\n",
    "                    (bs_pos_est[:, 0] - ue_pos_est_i[0]) ** 2\n",
    "                    + (bs_pos_est[:, 1] - ue_pos_est_i[1]) ** 2\n",
    "                )\n",
    "                / c_ns\n",
    "            )\n",
    "            tdoa_est_i = toa_est_i[1:] - toa_est_i[0:1]\n",
    "            #  loss_tdoa_i = np.sum((tdoa_est_i - tdoa_measured[ue_i, :]) ** 2)\n",
    "            loss_tdoa_i = np.sum(np.abs(tdoa_est_i - tdoa_measured[ue_i, :]))\n",
    "\n",
    "            if loss_tdoa_i < min_loss_ue:\n",
    "                ue_pos_est[ue_i, :] = ue_pos_est_i.copy()\n",
    "                min_loss_ue = loss_tdoa_i\n",
    "\n",
    "        loss_tdoa += min_loss_ue\n",
    "\n",
    "    if loss_tdoa < min_loss:\n",
    "        ue_pos_best = ue_pos_est.copy()\n",
    "        bs_pos_best = bs_pos_est.copy()\n",
    "        min_loss = loss_tdoa\n",
    "\n",
    "ue_pos_est = ue_pos_best\n",
    "bs_pos_est = bs_pos_best"
   ],
   "metadata": {
    "collapsed": false,
    "pycharm": {
     "name": "#%%\n"
    }
   }
  },
  {
   "cell_type": "code",
   "execution_count": 30,
   "outputs": [
    {
     "data": {
      "text/plain": "<Figure size 500x500 with 1 Axes>",
      "image/png": "[encoded data removed]"
     },
     "metadata": {},
     "output_type": "display_data"
    }
   ],
   "source": [
    "fig, ax = plt.subplots()\n",
    "ax.set_aspect(\"equal\")\n",
    "ax.set_xlim(-10, 10)\n",
    "ax.set_ylim(-10, 10)\n",
    "ax.set_box_aspect(1)\n",
    "ax.scatter(*bs_pos.T, label=\"BS pos\")\n",
    "ax.scatter(*bs_pos_est[2:].T, label=\"BS est\")\n",
    "ax.scatter(*ue_pos.T, label=\"UE pos\")\n",
    "ax.scatter(*ue_pos_est.T, label=\"UE est\")\n",
    "# k = 1\n",
    "# ax.scatter(*ue_pos[k].T, label=\"UE pos\")\n",
    "# ax.scatter(*ue_pos_est[k].T, label=\"UE est\")\n",
    "\n",
    "\n",
    "plt.legend()\n",
    "plt.show()"
   ],
   "metadata": {
    "collapsed": false,
    "pycharm": {
     "name": "#%%\n"
    }
   }
  },
  {
   "cell_type": "code",
   "execution_count": null,
   "outputs": [],
   "source": [],
   "metadata": {
    "collapsed": false,
    "pycharm": {
     "name": "#%%\n"
    }
   }
  }
 ],
 "metadata": {
  "kernelspec": {
   "display_name": "Python 3",
   "language": "python",
   "name": "python3"
  },
  "language_info": {
   "codemirror_mode": {
    "name": "ipython",
    "version": 3
   },
   "file_extension": ".py",
   "mimetype": "text/x-python",
   "name": "python",
   "nbconvert_exporter": "python",
   "pygments_lexer": "ipython3",
   "version": "3.10.8"
  }
 },
 "nbformat": 4,
 "nbformat_minor": 4
}